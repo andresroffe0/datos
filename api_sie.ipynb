{
 "cells": [
  {
   "cell_type": "code",
   "execution_count": 2,
   "id": "cd963370",
   "metadata": {},
   "outputs": [],
   "source": [
    "import requests\n",
    "import pandas as pd\n",
    "\n",
    "def banxico(token,series,fechaIni,fechaFin):\n",
    "    url = f'https://www.banxico.org.mx/SieAPIRest/service/v1/series/{series}/datos/{fechaIni}/{fechaFin}'\n",
    "    headers = {'Bmx-Token': token}\n",
    "    response = requests.get(url, headers=headers)\n",
    "    data = response.json()\n",
    "    return data"
   ]
  }
 ],
 "metadata": {
  "kernelspec": {
   "display_name": "Python 3",
   "language": "python",
   "name": "python3"
  },
  "language_info": {
   "codemirror_mode": {
    "name": "ipython",
    "version": 3
   },
   "file_extension": ".py",
   "mimetype": "text/x-python",
   "name": "python",
   "nbconvert_exporter": "python",
   "pygments_lexer": "ipython3",
   "version": "3.12.1"
  }
 },
 "nbformat": 4,
 "nbformat_minor": 5
}
